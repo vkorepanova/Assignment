{
 "cells": [
  {
   "cell_type": "markdown",
   "metadata": {},
   "source": [
    "## Упражнение 1"
   ]
  },
  {
   "cell_type": "code",
   "execution_count": 5,
   "metadata": {},
   "outputs": [
    {
     "name": "stdout",
     "output_type": "stream",
     "text": [
      "6\n",
      "8\n"
     ]
    }
   ],
   "source": [
    "def fibonacci(n):\n",
    "    if n in (1, 2):\n",
    "        return 1\n",
    "    return fibonacci(n - 1) + fibonacci(n - 2)\n",
    "\n",
    "number = int(input())\n",
    "print(fibonacci(number))"
   ]
  },
  {
   "cell_type": "markdown",
   "metadata": {},
   "source": [
    "## Упражнение 2"
   ]
  },
  {
   "cell_type": "code",
   "execution_count": 70,
   "metadata": {},
   "outputs": [
    {
     "name": "stdout",
     "output_type": "stream",
     "text": [
      "5 \n",
      "Нет(\n"
     ]
    }
   ],
   "source": [
    "\n",
    "def print_f(func):\n",
    "    def p(a):\n",
    "        prom = func(a)\n",
    "        if len(prom)>10:\n",
    "            print(\"Очень много\")\n",
    "        if prom == []:\n",
    "            print(\"Нет(\")\n",
    "    return p\n",
    "\n",
    "@print_f\n",
    "def f(a):\n",
    "    l = [] \n",
    "    for i in a:\n",
    "        if int(i)%2 ==0:\n",
    "            l.append(i)\n",
    "    return(l)\n",
    "\n",
    "a = input().split()\n",
    "\n",
    "f(a)"
   ]
  },
  {
   "cell_type": "markdown",
   "metadata": {},
   "source": [
    "## Упражнение 3"
   ]
  },
  {
   "cell_type": "code",
   "execution_count": 103,
   "metadata": {},
   "outputs": [
    {
     "name": "stdout",
     "output_type": "stream",
     "text": [
      "(4, 2)\n",
      "2.0\n"
     ]
    }
   ],
   "source": [
    "def swap(func):\n",
    "    def h(*args, **kwargs):\n",
    "        k = args[::-1]\n",
    "        prom = func(*k, **kwargs)\n",
    "    return h\n",
    "\n",
    "@swap\n",
    "def div(x, y, show = False):\n",
    "    res = x / y\n",
    "    if show:\n",
    "        print(res)\n",
    "    return res        \n",
    "\n",
    "div(2, 4, show=True)"
   ]
  },
  {
   "cell_type": "markdown",
   "metadata": {},
   "source": [
    "## Упражнение 4"
   ]
  },
  {
   "cell_type": "code",
   "execution_count": null,
   "metadata": {},
   "outputs": [],
   "source": [
    "\n",
    "import time\n",
    "\n",
    "def log(func):\n",
    "    \n",
    "    def p(a, b):\n",
    "        tmp = time.time()\n",
    "        func(a, b)\n",
    "        k = time.time()-tmp\n",
    "        with open(\"./help.txt\", \"w\") as file:\n",
    "            file.write(f\"Время вызова функции: {k}\")\n",
    "    return p\n",
    "    \n",
    "@log    \n",
    "def sum_f(a, b):\n",
    "    for i in range(10**1000000):\n",
    "        k = a**(10**1000)\n",
    "    return k\n",
    "\n",
    "sum_f(100, 6)"
   ]
  },
  {
   "cell_type": "code",
   "execution_count": 121,
   "metadata": {},
   "outputs": [
    {
     "name": "stdout",
     "output_type": "stream",
     "text": [
      "a: 1, b: 2, c: 3\n",
      "a: 1\n"
     ]
    }
   ],
   "source": [
    "a = 1\n",
    "b = 2\n",
    "\n",
    "print(f\"a: {a}, b: {b}, c: {a + b}\")\n",
    "print(\"a: {a}\".format(a=a))"
   ]
  },
  {
   "cell_type": "code",
   "execution_count": null,
   "metadata": {},
   "outputs": [],
   "source": []
  }
 ],
 "metadata": {
  "kernelspec": {
   "display_name": "Python 3",
   "language": "python",
   "name": "python3"
  },
  "language_info": {
   "codemirror_mode": {
    "name": "ipython",
    "version": 3
   },
   "file_extension": ".py",
   "mimetype": "text/x-python",
   "name": "python",
   "nbconvert_exporter": "python",
   "pygments_lexer": "ipython3",
   "version": "3.7.5"
  }
 },
 "nbformat": 4,
 "nbformat_minor": 4
}
