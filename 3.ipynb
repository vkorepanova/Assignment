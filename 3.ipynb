{
 "cells": [
  {
   "cell_type": "code",
   "execution_count": 39,
   "metadata": {},
   "outputs": [
    {
     "name": "stdout",
     "output_type": "stream",
     "text": [
      "mur ^-^\n"
     ]
    }
   ],
   "source": [
    "with open(\"./mur.txt\", \"r\") as file:\n",
    "    for line in file:\n",
    "        print(line)"
   ]
  },
  {
   "cell_type": "code",
   "execution_count": 53,
   "metadata": {},
   "outputs": [],
   "source": [
    "a = [['qeg', 'qebfj'], ['2', '3'], ['lkqbfv']]\n",
    "with open(\"./untitled.txt\", 'w') as file:\n",
    "    for i in a:\n",
    "        file.write(' '.join(i +['\\n']))\n",
    "file.close()"
   ]
  },
  {
   "cell_type": "code",
   "execution_count": 63,
   "metadata": {},
   "outputs": [],
   "source": [
    "a = ['qeg', 'qebfj', '2', '3', 'lkqbfv']\n",
    "with open(\"./untitled.txt\", 'w') as file:\n",
    "    file.write('\\n'.join(a))\n",
    "file.close()"
   ]
  },
  {
   "cell_type": "code",
   "execution_count": 92,
   "metadata": {},
   "outputs": [
    {
     "name": "stdout",
     "output_type": "stream",
     "text": [
      "['afymg.py', 'ailhc.py', 'akmok.py', 'aniue.py', 'aqqzt.py', 'auwzy.py', 'avzvc.py', 'bffrb.py', 'blvtq.py', 'bmuav.py', 'bnunx.py', 'bxdnn.py', 'bxijj.py', 'cbdqd.py', 'ccyrz.py', 'cdlnj.py', 'ceqnw.py', 'cewmk.py', 'cfbxr.py', 'cgzfk.py', 'cnems.py', 'cqugd.py', 'cubok.py', 'czkpi.py', 'dbmss.py', 'dikzy.py', 'djwiq.py', 'dndhe.py', 'dnjsf.py', 'drkat.py', 'dudeb.py', 'dwwlp.py', 'dxvcb.py', 'eaemw.py', 'edamr.py', 'efipd.py', 'ehaxe.py', 'eihrp.py', 'elpwr.py', 'equko.py', 'eslhq.py', 'euduy.py', 'ewpru.py', 'exewx.py', 'fdfju.py', 'fjcnm.py', 'fpyfb.py', 'frdru.py', 'fwutv.py', 'fwxhe.py', 'ghtwx.py', 'girkd.py', 'gvyia.py', 'gwqic.py', 'hamfm.py', 'hjgdf.py', 'hoyms.py', 'hstyv.py', 'hzgem.py', 'hzhfn.py', 'ifjxk.py', 'ihdto.py', 'isljh.py', 'iwohr.py', 'ixrqq.py', 'jfckr.py', 'jleiq.py', 'jlife.py', 'jogpz.py', 'jqeou.py', 'kchnx.py', 'kdfnf.py', 'kfllc.py', 'kholn.py', 'kisdi.py', 'kjava.py', 'krlys.py', 'ksfjq.py', 'kvayn.py', 'kxafz.py', 'lagpy.py', 'lfesp.py', 'lgunz.py', 'lmrtv.py', 'lmyue.py', 'loqtf.py', 'lrzxd.py', 'lshgy.py', 'ltedx.py', 'lxlbl.py', 'lzccb.py', 'lzvgo.py', 'mcesa.py', 'mcvwk.py', 'megyo.py', 'mejcl.py', 'mkydd.py', 'mmvbh.py', 'mrkmf.py', 'mvznr.py', 'myjqk.py', 'ncajz.py', 'nelpv.py', 'ngutc.py', 'njkyn.py', 'nnrrb.py', 'nnzmq.py', 'nozbp.py', 'nrlqk.py', 'nujsg.py', 'nvbgf.py', 'nzmgi.py', 'obcpa.py', 'oehnz.py', 'oteke.py', 'pbidc.py', 'pevsg.py', 'pfoyt.py', 'pmxrs.py', 'pqzao.py', 'ptdnq.py', 'ptykj.py', 'puzpd.py', 'qcdrm.py', 'qjicg.py', 'qpajn.py', 'qqqpe.py', 'qtadz.py', 'qtfig.py', 'qtxsm.py', 'qxkag.py', 'racex.py', 'raznl.py', 'rjjzv.py', 'rovjs.py', 'rsolr.py', 'rvjcx.py', 'rvzlj.py', 'rvzwp.py', 'rwejw.py', 'sbjht.py', 'sjhjd.py', 'sknss.py', 'smnsc.py', 'snjsf.py', 'ssfuy.py', 'ssizd.py', 'ssjjr.py', 'suvtu.py', 'swqks.py', 'sxnyt.py', 'taevp.py', 'thrcn.py', 'tkmtk.py', 'tmonk.py', 'tpzyb.py', 'trope.py', 'ttopz.py', 'udied.py', 'uhuvh.py', 'uifjw.py', 'uiwot.py', 'uqqxx.py', 'urqac.py', 'uvmef.py', 'uvulr.py', 'vjvey.py', 'vkvkp.py', 'vtsov.py', 'vwicr.py', 'vzkic.py', 'wenln.py', 'wevmv.py', 'wggct.py', 'wmlla.py', 'wnzzk.py', 'wpqqa.py', 'wqsqb.py', 'wvtgk.py', 'wxhtw.py', 'wxxzu.py', 'xcarh.py', 'xfqqg.py', 'xipxd.py', 'xoaoa.py', 'xpfmw.py', 'xwmnb.py', 'ybrdw.py', 'ycnmt.py', 'yhgoq.py', 'yqthe.py', 'yraxd.py', 'yvgwm.py', 'yzhtw.py', 'zaxis.py', 'zbqui.py', 'zclmh.py', 'zkakj.py', 'zppuj.py', 'zxoah.py', 'zxxeu.py']\n"
     ]
    }
   ],
   "source": [
    "import shutil\n",
    "import os\n",
    "k = []\n",
    "f = []\n",
    "def find_str(str):\n",
    "        find_py = str.rfind(\".py\")\n",
    "        if find_py != -1 :\n",
    "            k.append(str)\n",
    "        return str\n",
    "shutil.unpack_archive(\"./main.zip\")\n",
    "directory = \"./main\"\n",
    "for current_dir, directory, files in os.walk(\"./main\"):  \n",
    "    f.extend(files)\n",
    "for i in f:\n",
    "    find_str(i)\n",
    "l = sorted(k)\n",
    "print(l)\n",
    "with open(\"./py_file.txt\", 'w') as file:\n",
    "    file.write('\\n'.join(l))\n",
    "file.close()"
   ]
  },
  {
   "cell_type": "code",
   "execution_count": null,
   "metadata": {},
   "outputs": [],
   "source": []
  }
 ],
 "metadata": {
  "kernelspec": {
   "display_name": "Python 3",
   "language": "python",
   "name": "python3"
  },
  "language_info": {
   "codemirror_mode": {
    "name": "ipython",
    "version": 3
   },
   "file_extension": ".py",
   "mimetype": "text/x-python",
   "name": "python",
   "nbconvert_exporter": "python",
   "pygments_lexer": "ipython3",
   "version": "3.7.5"
  }
 },
 "nbformat": 4,
 "nbformat_minor": 4
}
